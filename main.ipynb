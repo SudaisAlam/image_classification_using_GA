{
 "cells": [
  {
   "cell_type": "code",
   "execution_count": 75,
   "id": "baf6e883",
   "metadata": {},
   "outputs": [],
   "source": [
    "import tensorflow as tf\n",
    "from tensorflow.keras import datasets, layers, models\n",
    "import matplotlib.pyplot as plt\n",
    "import pygad.kerasga as pg\n",
    "from sklearn.metrics import mean_absolute_error\n",
    "import pygad\n",
    "import numpy as np\n",
    "from sklearn.metrics import accuracy_score"
   ]
  },
  {
   "cell_type": "code",
   "execution_count": 2,
   "id": "3b75043a",
   "metadata": {},
   "outputs": [
    {
     "data": {
      "text/plain": [
       "(50000, 32, 32, 3)"
      ]
     },
     "execution_count": 2,
     "metadata": {},
     "output_type": "execute_result"
    }
   ],
   "source": [
    "(X_train, y_train), (X_test,y_test) = datasets.cifar10.load_data()\n",
    "X_train.shape"
   ]
  },
  {
   "cell_type": "code",
   "execution_count": 3,
   "id": "d521087d",
   "metadata": {},
   "outputs": [
    {
     "data": {
      "text/plain": [
       "(10000, 32, 32, 3)"
      ]
     },
     "execution_count": 3,
     "metadata": {},
     "output_type": "execute_result"
    }
   ],
   "source": [
    "X_test.shape"
   ]
  },
  {
   "cell_type": "code",
   "execution_count": 4,
   "id": "2a49e750",
   "metadata": {},
   "outputs": [
    {
     "data": {
      "text/plain": [
       "array([[6],\n",
       "       [9],\n",
       "       [9],\n",
       "       [4],\n",
       "       [1]], dtype=uint8)"
      ]
     },
     "execution_count": 4,
     "metadata": {},
     "output_type": "execute_result"
    }
   ],
   "source": [
    "y_train[:5]"
   ]
  },
  {
   "cell_type": "code",
   "execution_count": 118,
   "id": "7c0b6284",
   "metadata": {},
   "outputs": [
    {
     "data": {
      "text/plain": [
       "array([6, 9, 9, 4, 1], dtype=uint8)"
      ]
     },
     "execution_count": 118,
     "metadata": {},
     "output_type": "execute_result"
    }
   ],
   "source": [
    "y_train = y_train.reshape(-1,)\n",
    "y_train[:5]"
   ]
  },
  {
   "cell_type": "code",
   "execution_count": 119,
   "id": "bceabb5e",
   "metadata": {},
   "outputs": [],
   "source": [
    "y_test = y_test.reshape(-1,)"
   ]
  },
  {
   "cell_type": "code",
   "execution_count": 111,
   "id": "96337219",
   "metadata": {},
   "outputs": [],
   "source": [
    "classes = [\"airplane\",\"automobile\",\"bird\",\"cat\",\"deer\",\"dog\",\"frog\",\"horse\",\"ship\",\"truck\"]"
   ]
  },
  {
   "cell_type": "code",
   "execution_count": 122,
   "id": "521bce7b",
   "metadata": {},
   "outputs": [],
   "source": [
    "def plot_sample(X, y, index):\n",
    "    plt.figure(figsize = (5,2))\n",
    "    plt.imshow(X[index])\n",
    "    plt.xlabel(classes[y[index]])"
   ]
  },
  {
   "cell_type": "code",
   "execution_count": 123,
   "id": "1a91c393",
   "metadata": {},
   "outputs": [
    {
     "data": {
      "image/png": "[encoded data removed]",
      "text/plain": [
       "<Figure size 360x144 with 1 Axes>"
      ]
     },
     "metadata": {
      "needs_background": "light"
     },
     "output_type": "display_data"
    }
   ],
   "source": [
    "plot_sample(X_train, y_train, 6)"
   ]
  },
  {
   "cell_type": "code",
   "execution_count": 126,
   "id": "c7772c49",
   "metadata": {},
   "outputs": [
    {
     "data": {
      "image/png": "[encoded data removed]",
      "text/plain": [
       "<Figure size 360x144 with 1 Axes>"
      ]
     },
     "metadata": {
      "needs_background": "light"
     },
     "output_type": "display_data"
    }
   ],
   "source": [
    "plot_sample(X_train, y_train, 4)"
   ]
  },
  {
   "cell_type": "code",
   "execution_count": 127,
   "id": "f9d9aadd",
   "metadata": {},
   "outputs": [],
   "source": [
    "X_train = X_train / 255.0\n",
    "X_test = X_test / 255.0"
   ]
  },
  {
   "cell_type": "code",
   "execution_count": 12,
   "id": "b903d9bc",
   "metadata": {},
   "outputs": [
    {
     "name": "stderr",
     "output_type": "stream",
     "text": [
      "2022-03-16 00:13:25.173122: I tensorflow/core/platform/cpu_feature_guard.cc:142] This TensorFlow binary is optimized with oneAPI Deep Neural Network Library (oneDNN)to use the following CPU instructions in performance-critical operations:  AVX2 FMA\n",
      "To enable them in other operations, rebuild TensorFlow with the appropriate compiler flags.\n",
      "2022-03-16 00:13:25.217889: I tensorflow/compiler/xla/service/service.cc:168] XLA service 0x7fcace03db60 initialized for platform Host (this does not guarantee that XLA will be used). Devices:\n",
      "2022-03-16 00:13:25.217908: I tensorflow/compiler/xla/service/service.cc:176]   StreamExecutor device (0): Host, Default Version\n"
     ]
    }
   ],
   "source": [
    "cnn = models.Sequential([\n",
    "    layers.Conv2D(filters=32, kernel_size=(3, 3), activation='relu', input_shape=(32, 32, 3)),\n",
    "    layers.MaxPooling2D((2, 2)),\n",
    "    \n",
    "    layers.Conv2D(filters=64, kernel_size=(3, 3), activation='relu'),\n",
    "    layers.MaxPooling2D((2, 2)),\n",
    "    \n",
    "    layers.Flatten(),\n",
    "    layers.Dense(64, activation='relu'),\n",
    "    layers.Dense(10, activation='softmax')\n",
    "])"
   ]
  },
  {
   "cell_type": "code",
   "execution_count": 13,
   "id": "21fc3c87",
   "metadata": {},
   "outputs": [],
   "source": [
    "cnn.compile(optimizer='adam',\n",
    "              loss='sparse_categorical_crossentropy',\n",
    "              metrics=['accuracy'])"
   ]
  },
  {
   "cell_type": "code",
   "execution_count": 14,
   "id": "068bb9cd",
   "metadata": {},
   "outputs": [
    {
     "name": "stdout",
     "output_type": "stream",
     "text": [
      "Epoch 1/10\n",
      "1563/1563 [==============================] - 38s 24ms/step - loss: 1.4812 - accuracy: 0.4677\n",
      "Epoch 2/10\n",
      "1563/1563 [==============================] - 44s 28ms/step - loss: 1.1254 - accuracy: 0.6037\n",
      "Epoch 3/10\n",
      "1563/1563 [==============================] - 42s 27ms/step - loss: 0.9811 - accuracy: 0.6600\n",
      "Epoch 4/10\n",
      "1563/1563 [==============================] - 42s 27ms/step - loss: 0.8972 - accuracy: 0.6903\n",
      "Epoch 5/10\n",
      "1563/1563 [==============================] - 45s 29ms/step - loss: 0.8377 - accuracy: 0.7092\n",
      "Epoch 6/10\n",
      "1563/1563 [==============================] - 47s 30ms/step - loss: 0.7878 - accuracy: 0.7252\n",
      "Epoch 7/10\n",
      "1563/1563 [==============================] - 72s 46ms/step - loss: 0.7443 - accuracy: 0.7417\n",
      "Epoch 8/10\n",
      "1563/1563 [==============================] - 52s 33ms/step - loss: 0.7030 - accuracy: 0.7550\n",
      "Epoch 9/10\n",
      "1563/1563 [==============================] - 47s 30ms/step - loss: 0.6694 - accuracy: 0.7674\n",
      "Epoch 10/10\n",
      "1563/1563 [==============================] - 45s 29ms/step - loss: 0.6354 - accuracy: 0.7772\n"
     ]
    },
    {
     "data": {
      "text/plain": [
       "<tensorflow.python.keras.callbacks.History at 0x13f1163c8>"
      ]
     },
     "execution_count": 14,
     "metadata": {},
     "output_type": "execute_result"
    }
   ],
   "source": [
    "cnn.fit(X_train, y_train, epochs=10)"
   ]
  },
  {
   "cell_type": "code",
   "execution_count": 15,
   "id": "17242519",
   "metadata": {},
   "outputs": [
    {
     "name": "stdout",
     "output_type": "stream",
     "text": [
      "313/313 [==============================] - 2s 8ms/step - loss: 0.9453 - accuracy: 0.6817\n"
     ]
    },
    {
     "data": {
      "text/plain": [
       "[0.9453362226486206, 0.6816999912261963]"
      ]
     },
     "execution_count": 15,
     "metadata": {},
     "output_type": "execute_result"
    }
   ],
   "source": [
    "cnn.evaluate(X_test,y_test)"
   ]
  },
  {
   "cell_type": "code",
   "execution_count": 16,
   "id": "3bffdfa6",
   "metadata": {},
   "outputs": [],
   "source": [
    "keras_ga = pg.kerasga.KerasGA(model=cnn, num_solutions=10)"
   ]
  },
  {
   "cell_type": "code",
   "execution_count": 17,
   "id": "87bbe3ca",
   "metadata": {},
   "outputs": [],
   "source": [
    "def fitness_func(solution, sol_idx):\n",
    "    #global data_inputs, data_outputs, keras_ga, model\n",
    "    model_weights_matrix = pg.model_weights_as_matrix(model=cnn,\n",
    "                                                                 weights_vector=solution)\n",
    "    cnn.set_weights(weights=model_weights_matrix)\n",
    "    predictions = cnn.predict(X_test)\n",
    "    predictions = [np.argmax(element) for element in predictions]\n",
    "    mae = tf.keras.losses.MeanAbsoluteError()\n",
    "    error = mae(y_test, predictions).numpy()\n",
    "    solution_fitness = 1.0 / (error + 0.00000001)\n",
    "    return solution_fitness"
   ]
  },
  {
   "cell_type": "code",
   "execution_count": 18,
   "id": "8eff321f",
   "metadata": {},
   "outputs": [],
   "source": [
    "def on_generation(ga_instance):\n",
    "    print(\"Generation = {generation}\".format(generation=ga_instance.generations_completed))\n",
    "    print(\"Fitness    = {fitness}\".format(fitness=ga_instance.best_solution(ga_instance.last_generation_fitness)[1]), end='\\n\\n')"
   ]
  },
  {
   "cell_type": "code",
   "execution_count": 21,
   "id": "7a57bad3",
   "metadata": {},
   "outputs": [],
   "source": [
    "ga_instance = pygad.GA(num_generations=10, \n",
    "                       num_parents_mating=5, \n",
    "                       fitness_func=fitness_func,\n",
    "                       initial_population=keras_ga.population_weights,\n",
    "                       on_generation=on_generation,\n",
    "                       suppress_warnings=True)"
   ]
  },
  {
   "cell_type": "code",
   "execution_count": 22,
   "id": "87c06034",
   "metadata": {},
   "outputs": [
    {
     "name": "stdout",
     "output_type": "stream",
     "text": [
      "Generation = 1\n",
      "Fitness    = 0.9999999900000002\n",
      "\n",
      "Generation = 2\n",
      "Fitness    = 0.9999999900000002\n",
      "\n",
      "Generation = 3\n",
      "Fitness    = 0.9999999900000002\n",
      "\n",
      "Generation = 4\n",
      "Fitness    = 0.9999999900000002\n",
      "\n",
      "Generation = 5\n",
      "Fitness    = 0.9999999900000002\n",
      "\n",
      "Generation = 6\n",
      "Fitness    = 0.9999999900000002\n",
      "\n",
      "Generation = 7\n",
      "Fitness    = 0.9999999900000002\n",
      "\n",
      "Generation = 8\n",
      "Fitness    = 0.9999999900000002\n",
      "\n",
      "Generation = 9\n",
      "Fitness    = 0.9999999900000002\n",
      "\n",
      "Generation = 10\n",
      "Fitness    = 0.9999999900000002\n",
      "\n"
     ]
    }
   ],
   "source": [
    "ga_instance.run()"
   ]
  },
  {
   "cell_type": "code",
   "execution_count": 23,
   "id": "5820605a",
   "metadata": {},
   "outputs": [
    {
     "data": {
      "image/png": "[encoded data removed]",
      "text/plain": [
       "<Figure size 432x288 with 1 Axes>"
      ]
     },
     "metadata": {
      "needs_background": "light"
     },
     "output_type": "display_data"
    }
   ],
   "source": [
    "fig = ga_instance.plot_result(title=\"PyGAD & Keras - Iteration vs. Fitness\", linewidth=4)"
   ]
  },
  {
   "cell_type": "code",
   "execution_count": 25,
   "id": "6ac29e15",
   "metadata": {},
   "outputs": [
    {
     "name": "stdout",
     "output_type": "stream",
     "text": [
      "Parameters of the best solution:\n",
      "[-0.20130342  0.0672918  -0.09399553 ... -0.13370794  0.16102652\n",
      " -0.14170289]\n",
      "\n",
      "Length of the solution is: 167562\n",
      "\n",
      "Fitness value of the best solution:\n",
      "0.9999999900000002\n",
      "\n"
     ]
    }
   ],
   "source": [
    "solution, solution_fitness, _ = ga_instance.best_solution()\n",
    "print(\"Parameters of the best solution:\\n{solution}\".format(solution=solution), end=\"\\n\\n\")\n",
    "\n",
    "# This is equation to the number of trainable parameters in the Keras model.\n",
    "print(\"Length of the solution is:\", len(solution), end='\\n\\n')\n",
    "\n",
    "print(\"Fitness value of the best solution:\\n{solution_fitness}\".format(solution_fitness=solution_fitness), end='\\n\\n')"
   ]
  },
  {
   "cell_type": "code",
   "execution_count": 52,
   "id": "b551a7bc",
   "metadata": {},
   "outputs": [
    {
     "data": {
      "text/plain": [
       "(811, 1200, 3)"
      ]
     },
     "execution_count": 52,
     "metadata": {},
     "output_type": "execute_result"
    }
   ],
   "source": [
    "im = plt.imread('aero.jpg')\n",
    "im = np.array(im)\n",
    "im = im / 255\n",
    "im.shape"
   ]
  },
  {
   "cell_type": "code",
   "execution_count": 57,
   "id": "85a5cd10",
   "metadata": {},
   "outputs": [],
   "source": [
    "best_solution_weights = pg.model_weights_as_matrix(model=cnn,\n",
    "                                                              weights_vector=solution)\n",
    "cnn.set_weights(best_solution_weights)\n",
    "predictions = cnn.predict(X_test)"
   ]
  },
  {
   "cell_type": "code",
   "execution_count": 73,
   "id": "4b36bb30",
   "metadata": {},
   "outputs": [
    {
     "data": {
      "text/plain": [
       "[3, 8, 1, 0, 6, 6, 1, 6, 3, 1, 4, 9, 5, 7, 9, 6, 5, 7, 8, 6]"
      ]
     },
     "execution_count": 73,
     "metadata": {},
     "output_type": "execute_result"
    }
   ],
   "source": [
    "y_classes = [np.argmax(element) for element in predictions]\n",
    "y_classes[:20]"
   ]
  },
  {
   "cell_type": "code",
   "execution_count": 74,
   "id": "78721d76",
   "metadata": {},
   "outputs": [
    {
     "data": {
      "text/plain": [
       "array([3, 8, 8, 0, 6, 6, 1, 6, 3, 1, 0, 9, 5, 7, 9, 8, 5, 7, 8, 6],\n",
       "      dtype=uint8)"
      ]
     },
     "execution_count": 74,
     "metadata": {},
     "output_type": "execute_result"
    }
   ],
   "source": [
    "y_test[:20]"
   ]
  },
  {
   "cell_type": "code",
   "execution_count": 79,
   "id": "a1f71baf",
   "metadata": {},
   "outputs": [
    {
     "data": {
      "text/plain": [
       "1"
      ]
     },
     "execution_count": 79,
     "metadata": {},
     "output_type": "execute_result"
    }
   ],
   "source": [
    "mae = tf.keras.losses.MeanAbsoluteError()\n",
    "error = mae(y_test, y_classes).numpy()\n",
    "error"
   ]
  },
  {
   "cell_type": "code",
   "execution_count": 93,
   "id": "7e93f56a",
   "metadata": {},
   "outputs": [
    {
     "name": "stdout",
     "output_type": "stream",
     "text": [
      "Accuracy =  68.17 %\n"
     ]
    }
   ],
   "source": [
    "accuracy = accuracy_score(y_classes, y_test)\n",
    "print(\"Accuracy = \", accuracy*100, \"%\")"
   ]
  },
  {
   "cell_type": "code",
   "execution_count": 54,
   "id": "baef33ae",
   "metadata": {},
   "outputs": [
    {
     "data": {
      "text/plain": [
       "(50000, 32, 32, 3)"
      ]
     },
     "execution_count": 54,
     "metadata": {},
     "output_type": "execute_result"
    }
   ],
   "source": [
    "X_train.shape"
   ]
  },
  {
   "cell_type": "code",
   "execution_count": 72,
   "id": "59565f7b",
   "metadata": {},
   "outputs": [
    {
     "data": {
      "text/plain": [
       "array([3, 8, 8, 0, 6, 6, 1, 6, 3, 1, 0, 9, 5, 7, 9, 8, 5, 7, 8, 6],\n",
       "      dtype=uint8)"
      ]
     },
     "execution_count": 72,
     "metadata": {},
     "output_type": "execute_result"
    }
   ],
   "source": [
    "y_test[:20]"
   ]
  },
  {
   "cell_type": "code",
   "execution_count": 56,
   "id": "2db10257",
   "metadata": {},
   "outputs": [
    {
     "data": {
      "text/plain": [
       "(50000,)"
      ]
     },
     "execution_count": 56,
     "metadata": {},
     "output_type": "execute_result"
    }
   ],
   "source": [
    "y_train.shape"
   ]
  },
  {
   "cell_type": "code",
   "execution_count": 80,
   "id": "dd6bd7d8",
   "metadata": {},
   "outputs": [
    {
     "data": {
      "text/plain": [
       "1.1161"
      ]
     },
     "execution_count": 80,
     "metadata": {},
     "output_type": "execute_result"
    }
   ],
   "source": [
    "mae = mean_absolute_error(y_classes, y_test)\n",
    "mae"
   ]
  },
  {
   "cell_type": "code",
   "execution_count": 91,
   "id": "d7eb2a80",
   "metadata": {},
   "outputs": [
    {
     "data": {
      "image/png": "[encoded data removed]",
      "text/plain": [
       "<Figure size 1080x144 with 1 Axes>"
      ]
     },
     "metadata": {
      "needs_background": "light"
     },
     "output_type": "display_data"
    }
   ],
   "source": [
    "plot_sample(X_test, y_test, 103)"
   ]
  },
  {
   "cell_type": "code",
   "execution_count": 92,
   "id": "7d82f63f",
   "metadata": {},
   "outputs": [
    {
     "data": {
      "text/plain": [
       "'cat'"
      ]
     },
     "execution_count": 92,
     "metadata": {},
     "output_type": "execute_result"
    }
   ],
   "source": [
    "classes[y_classes[103]]"
   ]
  },
  {
   "cell_type": "code",
   "execution_count": null,
   "id": "2f377fe0",
   "metadata": {},
   "outputs": [],
   "source": []
  }
 ],
 "metadata": {
  "kernelspec": {
   "display_name": "Python 3 (ipykernel)",
   "language": "python",
   "name": "python3"
  },
  "language_info": {
   "codemirror_mode": {
    "name": "ipython",
    "version": 3
   },
   "file_extension": ".py",
   "mimetype": "text/x-python",
   "name": "python",
   "nbconvert_exporter": "python",
   "pygments_lexer": "ipython3",
   "version": "3.7.3"
  }
 },
 "nbformat": 4,
 "nbformat_minor": 5
}
